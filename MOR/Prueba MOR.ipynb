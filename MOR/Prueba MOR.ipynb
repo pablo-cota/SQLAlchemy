{
 "cells": [
  {
   "cell_type": "code",
   "execution_count": 4,
   "metadata": {},
   "outputs": [],
   "source": [
    "import sqlalchemy\n",
    "\n",
    "#Connect a database\n",
    "from sqlalchemy import create_engine\n",
    "engine = create_engine('sqlite:///ex.db', echo = True)"
   ]
  },
  {
   "cell_type": "code",
   "execution_count": 5,
   "metadata": {},
   "outputs": [],
   "source": [
    "from sqlalchemy.ext.declarative import declarative_base\n",
    "Base = declarative_base()"
   ]
  },
  {
   "cell_type": "code",
   "execution_count": 6,
   "metadata": {},
   "outputs": [],
   "source": [
    "from sqlalchemy import Column, Integer, String\n",
    "\n",
    "class User(Base):\n",
    "    __tablename__ = 'users'\n",
    "    \n",
    "    id = Column(Integer, primary_key=True)\n",
    "    name = Column(String)\n",
    "    fullname = Column(String)\n",
    "    password = Column(String)\n",
    "    \n",
    "    def __repr__(self):\n",
    "        return \"<User(name='%s', fullname='%s', password='%s')>\" % (\n",
    "            self.name, self.fullname, self.password\n",
    "        )"
   ]
  },
  {
   "cell_type": "code",
   "execution_count": 7,
   "metadata": {},
   "outputs": [],
   "source": [
    "from sqlalchemy.orm import sessionmaker\n",
    "\n",
    "Session = sessionmaker(bind=engine)\n",
    "session = Session()"
   ]
  },
  {
   "cell_type": "code",
   "execution_count": 8,
   "metadata": {},
   "outputs": [
    {
     "name": "stdout",
     "output_type": "stream",
     "text": [
      "2022-12-15 18:09:29,993 INFO sqlalchemy.engine.Engine BEGIN (implicit)\n",
      "2022-12-15 18:09:29,995 INFO sqlalchemy.engine.Engine PRAGMA main.table_info(\"users\")\n",
      "2022-12-15 18:09:29,996 INFO sqlalchemy.engine.Engine [raw sql] ()\n",
      "2022-12-15 18:09:29,997 INFO sqlalchemy.engine.Engine PRAGMA temp.table_info(\"users\")\n",
      "2022-12-15 18:09:30,000 INFO sqlalchemy.engine.Engine [raw sql] ()\n",
      "2022-12-15 18:09:30,004 INFO sqlalchemy.engine.Engine \n",
      "CREATE TABLE users (\n",
      "\tid INTEGER NOT NULL, \n",
      "\tname VARCHAR, \n",
      "\tfullname VARCHAR, \n",
      "\tpassword VARCHAR, \n",
      "\tPRIMARY KEY (id)\n",
      ")\n",
      "\n",
      "\n",
      "2022-12-15 18:09:30,029 INFO sqlalchemy.engine.Engine [no key 0.00231s] ()\n",
      "2022-12-15 18:09:30,037 INFO sqlalchemy.engine.Engine COMMIT\n"
     ]
    }
   ],
   "source": [
    "Base.metadata.create_all(engine)"
   ]
  },
  {
   "cell_type": "code",
   "execution_count": 9,
   "metadata": {},
   "outputs": [
    {
     "data": {
      "text/plain": [
       "<User(name='Patricia', fullname='Patricia Figueroa Millán', password='lifeonmars')>"
      ]
     },
     "execution_count": 9,
     "metadata": {},
     "output_type": "execute_result"
    }
   ],
   "source": [
    "patricia = User(name='Patricia', fullname='Patricia Figueroa Millán', password='lifeonmars')\n",
    "session.add(patricia)\n",
    "patricia"
   ]
  },
  {
   "cell_type": "code",
   "execution_count": 10,
   "metadata": {},
   "outputs": [
    {
     "name": "stdout",
     "output_type": "stream",
     "text": [
      "2022-12-15 18:09:37,104 INFO sqlalchemy.engine.Engine BEGIN (implicit)\n",
      "2022-12-15 18:09:37,109 INFO sqlalchemy.engine.Engine INSERT INTO users (name, fullname, password) VALUES (?, ?, ?)\n",
      "2022-12-15 18:09:37,111 INFO sqlalchemy.engine.Engine [generated in 0.00188s] ('Patricia', 'Patricia Figueroa Millán', 'lifeonmars')\n",
      "2022-12-15 18:09:37,138 INFO sqlalchemy.engine.Engine SELECT users.id AS users_id, users.name AS users_name, users.fullname AS users_fullname, users.password AS users_password \n",
      "FROM users \n",
      "WHERE users.name = ?\n",
      " LIMIT ? OFFSET ?\n",
      "2022-12-15 18:09:37,146 INFO sqlalchemy.engine.Engine [generated in 0.00328s] ('Patricia', 1, 0)\n"
     ]
    }
   ],
   "source": [
    "user = session.query(User).filter_by(name='Patricia').first()"
   ]
  },
  {
   "cell_type": "code",
   "execution_count": 11,
   "metadata": {},
   "outputs": [],
   "source": [
    "session.add_all([\n",
    "    User(name='Pedro', fullname='Pedro Álvarez', password='12345'),\n",
    "    User(name='Pablo', fullname='Pablo Alcaraz', password='67890'),\n",
    "    User(name='Penélope', fullname='Penélope Sánchez', password='09876')\n",
    "])\n",
    "\n",
    "patricia.password = '3121077428'"
   ]
  },
  {
   "cell_type": "code",
   "execution_count": 12,
   "metadata": {},
   "outputs": [
    {
     "name": "stdout",
     "output_type": "stream",
     "text": [
      "2022-12-15 18:09:43,155 INFO sqlalchemy.engine.Engine UPDATE users SET password=? WHERE users.id = ?\n",
      "2022-12-15 18:09:43,158 INFO sqlalchemy.engine.Engine [generated in 0.00190s] ('3121077428', 1)\n",
      "2022-12-15 18:09:43,159 INFO sqlalchemy.engine.Engine INSERT INTO users (name, fullname, password) VALUES (?, ?, ?)\n",
      "2022-12-15 18:09:43,161 INFO sqlalchemy.engine.Engine [cached since 6.052s ago] ('Pedro', 'Pedro Álvarez', '12345')\n",
      "2022-12-15 18:09:43,163 INFO sqlalchemy.engine.Engine INSERT INTO users (name, fullname, password) VALUES (?, ?, ?)\n",
      "2022-12-15 18:09:43,166 INFO sqlalchemy.engine.Engine [cached since 6.056s ago] ('Pablo', 'Pablo Alcaraz', '67890')\n",
      "2022-12-15 18:09:43,166 INFO sqlalchemy.engine.Engine INSERT INTO users (name, fullname, password) VALUES (?, ?, ?)\n",
      "2022-12-15 18:09:43,169 INFO sqlalchemy.engine.Engine [cached since 6.06s ago] ('Penélope', 'Penélope Sánchez', '09876')\n",
      "2022-12-15 18:09:43,171 INFO sqlalchemy.engine.Engine COMMIT\n"
     ]
    }
   ],
   "source": [
    "session.commit()"
   ]
  },
  {
   "cell_type": "code",
   "execution_count": 13,
   "metadata": {},
   "outputs": [
    {
     "name": "stdout",
     "output_type": "stream",
     "text": [
      "2022-12-15 18:09:46,538 INFO sqlalchemy.engine.Engine BEGIN (implicit)\n",
      "2022-12-15 18:09:46,546 INFO sqlalchemy.engine.Engine SELECT users.id AS users_id, users.fullname AS users_fullname, users.password AS users_password \n",
      "FROM users \n",
      "WHERE users.id = ?\n",
      "2022-12-15 18:09:46,546 INFO sqlalchemy.engine.Engine [generated in 0.00241s] (1,)\n",
      "2022-12-15 18:09:46,555 INFO sqlalchemy.engine.Engine UPDATE users SET name=? WHERE users.id = ?\n",
      "2022-12-15 18:09:46,555 INFO sqlalchemy.engine.Engine [generated in 0.00142s] ('Eduardo', 1)\n",
      "2022-12-15 18:09:46,555 INFO sqlalchemy.engine.Engine INSERT INTO users (name, fullname, password) VALUES (?, ?, ?)\n",
      "2022-12-15 18:09:46,555 INFO sqlalchemy.engine.Engine [cached since 9.453s ago] ('fakeuser', 'Invalid', '12345')\n",
      "2022-12-15 18:09:46,563 INFO sqlalchemy.engine.Engine SELECT users.id AS users_id, users.name AS users_name, users.fullname AS users_fullname, users.password AS users_password \n",
      "FROM users \n",
      "WHERE users.name IN (?, ?)\n",
      "2022-12-15 18:09:46,563 INFO sqlalchemy.engine.Engine [generated in 0.00151s] ('Eduardo', 'fakeuser')\n"
     ]
    },
    {
     "data": {
      "text/plain": [
       "[<User(name='Eduardo', fullname='Patricia Figueroa Millán', password='3121077428')>,\n",
       " <User(name='fakeuser', fullname='Invalid', password='12345')>]"
      ]
     },
     "execution_count": 13,
     "metadata": {},
     "output_type": "execute_result"
    }
   ],
   "source": [
    "patricia.name = 'Eduardo'\n",
    "\n",
    "fake_user = User(name='fakeuser', fullname='Invalid', password='12345')\n",
    "session.add(fake_user)\n",
    "\n",
    "session.query(User).filter(User.name.in_(['Eduardo', 'fakeuser'])).all()"
   ]
  },
  {
   "cell_type": "code",
   "execution_count": 14,
   "metadata": {},
   "outputs": [
    {
     "name": "stdout",
     "output_type": "stream",
     "text": [
      "2022-12-15 18:09:50,768 INFO sqlalchemy.engine.Engine ROLLBACK\n"
     ]
    }
   ],
   "source": [
    "session.rollback()"
   ]
  },
  {
   "cell_type": "code",
   "execution_count": 15,
   "metadata": {},
   "outputs": [
    {
     "name": "stdout",
     "output_type": "stream",
     "text": [
      "2022-12-15 18:09:54,037 INFO sqlalchemy.engine.Engine BEGIN (implicit)\n",
      "2022-12-15 18:09:54,045 INFO sqlalchemy.engine.Engine SELECT users.id AS users_id, users.name AS users_name, users.fullname AS users_fullname, users.password AS users_password \n",
      "FROM users \n",
      "WHERE users.id = ?\n",
      "2022-12-15 18:09:54,045 INFO sqlalchemy.engine.Engine [generated in 0.00216s] (1,)\n"
     ]
    },
    {
     "data": {
      "text/plain": [
       "'Patricia'"
      ]
     },
     "execution_count": 15,
     "metadata": {},
     "output_type": "execute_result"
    }
   ],
   "source": [
    "patricia.name"
   ]
  },
  {
   "cell_type": "code",
   "execution_count": 16,
   "metadata": {},
   "outputs": [
    {
     "data": {
      "text/plain": [
       "False"
      ]
     },
     "execution_count": 16,
     "metadata": {},
     "output_type": "execute_result"
    }
   ],
   "source": [
    "fake_user in session"
   ]
  },
  {
   "cell_type": "code",
   "execution_count": 17,
   "metadata": {},
   "outputs": [
    {
     "name": "stdout",
     "output_type": "stream",
     "text": [
      "2022-12-15 18:09:59,684 INFO sqlalchemy.engine.Engine SELECT users.id AS users_id, users.name AS users_name, users.fullname AS users_fullname, users.password AS users_password \n",
      "FROM users ORDER BY users.id\n",
      "2022-12-15 18:09:59,686 INFO sqlalchemy.engine.Engine [generated in 0.00219s] ()\n",
      "<User(name='Patricia', fullname='Patricia Figueroa Millán', password='3121077428')>\n",
      "<User(name='Pedro', fullname='Pedro Álvarez', password='12345')>\n",
      "<User(name='Pablo', fullname='Pablo Alcaraz', password='67890')>\n",
      "<User(name='Penélope', fullname='Penélope Sánchez', password='09876')>\n"
     ]
    }
   ],
   "source": [
    "for instance in session.query(User).order_by(User.id):\n",
    "    print(instance)"
   ]
  },
  {
   "cell_type": "code",
   "execution_count": 18,
   "metadata": {},
   "outputs": [
    {
     "name": "stdout",
     "output_type": "stream",
     "text": [
      "2022-12-15 18:10:02,552 INFO sqlalchemy.engine.Engine SELECT users.name AS users_name, users.fullname AS users_fullname \n",
      "FROM users\n",
      "2022-12-15 18:10:02,555 INFO sqlalchemy.engine.Engine [generated in 0.00239s] ()\n",
      "Patricia Patricia Figueroa Millán\n",
      "Pedro Pedro Álvarez\n",
      "Pablo Pablo Alcaraz\n",
      "Penélope Penélope Sánchez\n"
     ]
    }
   ],
   "source": [
    "for name, fullname in session.query(User.name, User.fullname):\n",
    "    print(name, fullname)"
   ]
  },
  {
   "cell_type": "code",
   "execution_count": 19,
   "metadata": {},
   "outputs": [
    {
     "name": "stdout",
     "output_type": "stream",
     "text": [
      "2022-12-15 18:10:05,301 INFO sqlalchemy.engine.Engine SELECT users.id AS users_id, users.name AS users_name, users.fullname AS users_fullname, users.password AS users_password \n",
      "FROM users \n",
      "WHERE users.name = ?\n",
      "2022-12-15 18:10:05,301 INFO sqlalchemy.engine.Engine [generated in 0.00337s] ('Patricia',)\n",
      "<User(name='Patricia', fullname='Patricia Figueroa Millán', password='3121077428')>\n"
     ]
    }
   ],
   "source": [
    "for user in session.query(User).filter(User.name == 'Patricia'):\n",
    "    print(user)"
   ]
  },
  {
   "cell_type": "code",
   "execution_count": 20,
   "metadata": {},
   "outputs": [
    {
     "name": "stdout",
     "output_type": "stream",
     "text": [
      "2022-12-15 18:10:09,167 INFO sqlalchemy.engine.Engine SELECT users.id AS users_id, users.name AS users_name, users.fullname AS users_fullname, users.password AS users_password \n",
      "FROM users \n",
      "WHERE users.name != ?\n",
      "2022-12-15 18:10:09,167 INFO sqlalchemy.engine.Engine [generated in 0.00162s] ('Patricia',)\n",
      "<User(name='Pedro', fullname='Pedro Álvarez', password='12345')>\n",
      "<User(name='Pablo', fullname='Pablo Alcaraz', password='67890')>\n",
      "<User(name='Penélope', fullname='Penélope Sánchez', password='09876')>\n"
     ]
    }
   ],
   "source": [
    "for user in session.query(User).filter(User.name != 'Patricia'):\n",
    "    print(user)"
   ]
  },
  {
   "cell_type": "code",
   "execution_count": 21,
   "metadata": {},
   "outputs": [
    {
     "name": "stdout",
     "output_type": "stream",
     "text": [
      "2022-12-15 18:10:11,438 INFO sqlalchemy.engine.Engine SELECT users.id AS users_id, users.name AS users_name, users.fullname AS users_fullname, users.password AS users_password \n",
      "FROM users \n",
      "WHERE users.name LIKE ?\n",
      "2022-12-15 18:10:11,446 INFO sqlalchemy.engine.Engine [generated in 0.00132s] ('Patricia%',)\n",
      "<User(name='Patricia', fullname='Patricia Figueroa Millán', password='3121077428')>\n"
     ]
    }
   ],
   "source": [
    "for user in session.query(User).filter(User.name.like('Patricia%')):\n",
    "    print(user)"
   ]
  },
  {
   "cell_type": "code",
   "execution_count": 22,
   "metadata": {},
   "outputs": [
    {
     "name": "stdout",
     "output_type": "stream",
     "text": [
      "2022-12-15 18:10:14,848 INFO sqlalchemy.engine.Engine SELECT users.id AS users_id, users.name AS users_name, users.fullname AS users_fullname, users.password AS users_password \n",
      "FROM users \n",
      "WHERE users.name IN (?, ?, ?)\n",
      "2022-12-15 18:10:14,850 INFO sqlalchemy.engine.Engine [cached since 28.29s ago] ('Patricia', 'Pablo', 'Pedro')\n",
      "<User(name='Patricia', fullname='Patricia Figueroa Millán', password='3121077428')>\n",
      "<User(name='Pedro', fullname='Pedro Álvarez', password='12345')>\n",
      "<User(name='Pablo', fullname='Pablo Alcaraz', password='67890')>\n"
     ]
    }
   ],
   "source": [
    "for user in session.query(User).filter(User.name.in_(['Patricia', 'Pablo', 'Pedro'])):\n",
    "    print(user)"
   ]
  },
  {
   "cell_type": "code",
   "execution_count": 23,
   "metadata": {},
   "outputs": [
    {
     "name": "stdout",
     "output_type": "stream",
     "text": [
      "2022-12-15 18:10:17,851 INFO sqlalchemy.engine.Engine SELECT users.id AS users_id, users.name AS users_name, users.fullname AS users_fullname, users.password AS users_password \n",
      "FROM users \n",
      "WHERE (users.name NOT IN (?, ?, ?))\n",
      "2022-12-15 18:10:17,851 INFO sqlalchemy.engine.Engine [generated in 0.00210s] ('Patricia', 'Pablo', 'Pedro')\n",
      "<User(name='Penélope', fullname='Penélope Sánchez', password='09876')>\n"
     ]
    }
   ],
   "source": [
    "for user in session.query(User).filter(~User.name.in_(['Patricia', 'Pablo', 'Pedro'])):\n",
    "    print(user)"
   ]
  },
  {
   "cell_type": "code",
   "execution_count": 24,
   "metadata": {},
   "outputs": [
    {
     "name": "stdout",
     "output_type": "stream",
     "text": [
      "2022-12-15 18:10:20,110 INFO sqlalchemy.engine.Engine SELECT users.id AS users_id, users.name AS users_name, users.fullname AS users_fullname, users.password AS users_password \n",
      "FROM users \n",
      "WHERE users.name = ? AND users.fullname = ?\n",
      "2022-12-15 18:10:20,118 INFO sqlalchemy.engine.Engine [generated in 0.00201s] ('Patricia', 'Patricia Figueroa Millán')\n",
      "<User(name='Patricia', fullname='Patricia Figueroa Millán', password='3121077428')>\n"
     ]
    }
   ],
   "source": [
    "for user in session.query(User).filter(User.name == 'Patricia', User.fullname == 'Patricia Figueroa Millán'):\n",
    "    print(user)"
   ]
  },
  {
   "cell_type": "code",
   "execution_count": 25,
   "metadata": {},
   "outputs": [
    {
     "name": "stdout",
     "output_type": "stream",
     "text": [
      "2022-12-15 18:10:22,493 INFO sqlalchemy.engine.Engine SELECT users.id AS users_id, users.name AS users_name, users.fullname AS users_fullname, users.password AS users_password \n",
      "FROM users \n",
      "WHERE users.name = ? OR users.name = ?\n",
      "2022-12-15 18:10:22,493 INFO sqlalchemy.engine.Engine [generated in 0.00154s] ('Patricia', 'Pablo')\n",
      "<User(name='Patricia', fullname='Patricia Figueroa Millán', password='3121077428')>\n",
      "<User(name='Pablo', fullname='Pablo Alcaraz', password='67890')>\n"
     ]
    }
   ],
   "source": [
    "from sqlalchemy import or_\n",
    "for user in session.query(User).filter(or_(User.name == 'Patricia', User.name == 'Pablo')):\n",
    "    print(user)"
   ]
  },
  {
   "cell_type": "code",
   "execution_count": 26,
   "metadata": {},
   "outputs": [],
   "source": [
    "from sqlalchemy import ForeignKey\n",
    "from sqlalchemy.orm import relationship\n",
    "\n",
    "class Address(Base):\n",
    "    __tablename__ = 'addresses'\n",
    "    id = Column(Integer, primary_key=True)\n",
    "    email_address = Column(String, nullable=False)\n",
    "    user_id = Column(Integer, ForeignKey('users.id'))\n",
    "    user = relationship(\"User\", back_populates=\"addresses\")\n",
    "    \n",
    "    def __repr__(self):\n",
    "        return \"<Address(email_address='%s')>\" % self.email_address"
   ]
  },
  {
   "cell_type": "code",
   "execution_count": 27,
   "metadata": {},
   "outputs": [
    {
     "name": "stdout",
     "output_type": "stream",
     "text": [
      "2022-12-15 18:10:28,413 INFO sqlalchemy.engine.Engine BEGIN (implicit)\n",
      "2022-12-15 18:10:28,415 INFO sqlalchemy.engine.Engine PRAGMA main.table_info(\"users\")\n",
      "2022-12-15 18:10:28,416 INFO sqlalchemy.engine.Engine [raw sql] ()\n",
      "2022-12-15 18:10:28,418 INFO sqlalchemy.engine.Engine PRAGMA main.table_info(\"addresses\")\n",
      "2022-12-15 18:10:28,420 INFO sqlalchemy.engine.Engine [raw sql] ()\n",
      "2022-12-15 18:10:28,423 INFO sqlalchemy.engine.Engine PRAGMA temp.table_info(\"addresses\")\n",
      "2022-12-15 18:10:28,425 INFO sqlalchemy.engine.Engine [raw sql] ()\n",
      "2022-12-15 18:10:28,427 INFO sqlalchemy.engine.Engine \n",
      "CREATE TABLE addresses (\n",
      "\tid INTEGER NOT NULL, \n",
      "\temail_address VARCHAR NOT NULL, \n",
      "\tuser_id INTEGER, \n",
      "\tPRIMARY KEY (id), \n",
      "\tFOREIGN KEY(user_id) REFERENCES users (id)\n",
      ")\n",
      "\n",
      "\n",
      "2022-12-15 18:10:28,428 INFO sqlalchemy.engine.Engine [no key 0.00130s] ()\n",
      "2022-12-15 18:10:28,443 INFO sqlalchemy.engine.Engine COMMIT\n"
     ]
    }
   ],
   "source": [
    "User.addresses = relationship(\"Address\", order_by=Address.id, back_populates=\"user\")\n",
    "\n",
    "Base.metadata.create_all(engine)"
   ]
  },
  {
   "cell_type": "code",
   "execution_count": 28,
   "metadata": {},
   "outputs": [
    {
     "data": {
      "text/plain": [
       "[]"
      ]
     },
     "execution_count": 28,
     "metadata": {},
     "output_type": "execute_result"
    }
   ],
   "source": [
    "jack = User(name='jack', fullname='Jack Bean', password='gjffdd')\n",
    "jack.addresses"
   ]
  },
  {
   "cell_type": "code",
   "execution_count": 29,
   "metadata": {},
   "outputs": [],
   "source": [
    "jack.addresses = [Address(email_address='jack@google.com'), Address(email_address='j25@yahoo.com')]"
   ]
  },
  {
   "cell_type": "code",
   "execution_count": 33,
   "metadata": {},
   "outputs": [
    {
     "data": {
      "text/plain": [
       "<Address(email_address='j25@yahoo.com')>"
      ]
     },
     "execution_count": 33,
     "metadata": {},
     "output_type": "execute_result"
    }
   ],
   "source": [
    "jack.addresses[1]"
   ]
  },
  {
   "cell_type": "code",
   "execution_count": 31,
   "metadata": {},
   "outputs": [
    {
     "data": {
      "text/plain": [
       "<User(name='jack', fullname='Jack Bean', password='gjffdd')>"
      ]
     },
     "execution_count": 31,
     "metadata": {},
     "output_type": "execute_result"
    }
   ],
   "source": [
    "jack.addresses[1].user"
   ]
  },
  {
   "cell_type": "code",
   "execution_count": 32,
   "metadata": {},
   "outputs": [
    {
     "name": "stdout",
     "output_type": "stream",
     "text": [
      "2022-12-15 18:11:10,496 INFO sqlalchemy.engine.Engine INSERT INTO users (name, fullname, password) VALUES (?, ?, ?)\n",
      "2022-12-15 18:11:10,504 INFO sqlalchemy.engine.Engine [generated in 0.00223s] ('jack', 'Jack Bean', 'gjffdd')\n",
      "2022-12-15 18:11:10,540 INFO sqlalchemy.engine.Engine INSERT INTO addresses (email_address, user_id) VALUES (?, ?)\n",
      "2022-12-15 18:11:10,548 INFO sqlalchemy.engine.Engine [generated in 0.00633s] ('jack@google.com', 5)\n",
      "2022-12-15 18:11:10,548 INFO sqlalchemy.engine.Engine INSERT INTO addresses (email_address, user_id) VALUES (?, ?)\n",
      "2022-12-15 18:11:10,548 INFO sqlalchemy.engine.Engine [cached since 0.01357s ago] ('j25@yahoo.com', 5)\n",
      "2022-12-15 18:11:10,556 INFO sqlalchemy.engine.Engine COMMIT\n",
      "2022-12-15 18:11:10,564 INFO sqlalchemy.engine.Engine BEGIN (implicit)\n",
      "2022-12-15 18:11:10,572 INFO sqlalchemy.engine.Engine SELECT users.id AS users_id, users.name AS users_name, users.fullname AS users_fullname, users.password AS users_password \n",
      "FROM users \n",
      "WHERE users.name = ?\n",
      "2022-12-15 18:11:10,572 INFO sqlalchemy.engine.Engine [cached since 65.28s ago] ('jack',)\n",
      "2022-12-15 18:11:10,580 INFO sqlalchemy.engine.Engine SELECT addresses.id AS addresses_id, addresses.email_address AS addresses_email_address, addresses.user_id AS addresses_user_id \n",
      "FROM addresses \n",
      "WHERE ? = addresses.user_id ORDER BY addresses.id\n",
      "2022-12-15 18:11:10,588 INFO sqlalchemy.engine.Engine [generated in 0.00644s] (5,)\n"
     ]
    },
    {
     "data": {
      "text/plain": [
       "[<Address(email_address='jack@google.com')>,\n",
       " <Address(email_address='j25@yahoo.com')>]"
      ]
     },
     "execution_count": 32,
     "metadata": {},
     "output_type": "execute_result"
    }
   ],
   "source": [
    "session.add(jack)\n",
    "\n",
    "session.commit()\n",
    "\n",
    "jack = session.query(User).filter_by(name='jack').one()\n",
    "jack.addresses "
   ]
  }
 ],
 "metadata": {
  "kernelspec": {
   "display_name": "Python 3.10.x 64-bit (microsoft store)",
   "language": "python",
   "name": "python3"
  },
  "language_info": {
   "codemirror_mode": {
    "name": "ipython",
    "version": 3
   },
   "file_extension": ".py",
   "mimetype": "text/x-python",
   "name": "python",
   "nbconvert_exporter": "python",
   "pygments_lexer": "ipython3",
   "version": "3.10.9"
  },
  "orig_nbformat": 4,
  "vscode": {
   "interpreter": {
    "hash": "ec720a58500d11de0e5fc5c48be65fb39602b083ac27e2ae1aeca7536607724c"
   }
  }
 },
 "nbformat": 4,
 "nbformat_minor": 2
}
